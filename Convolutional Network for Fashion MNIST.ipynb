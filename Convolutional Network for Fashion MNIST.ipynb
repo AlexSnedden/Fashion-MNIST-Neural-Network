{
 "cells": [
  {
   "cell_type": "markdown",
   "metadata": {},
   "source": [
    "# Building a Convolutional Neural Network for Fashion MNIST"
   ]
  },
  {
   "cell_type": "markdown",
   "metadata": {},
   "source": [
    "Our goal will be to train a convolutional neural network on the Fashion MNIST dataset. The Fashion MNIST dataset was\n",
    "created out of an effort to replace MNIST as a go-to benchmarking dataset for CV algos, so I, lacking in experience with convolutional neural networks, decided to tackle implementing and training a model against it. This is just a documentation of the process of doing so for fun. Perhaps it will be useful to someone else. (I have ignored some of the deprecation warnings from tensorflow since this is just a personal program, and not intended for professional use.)"
   ]
  },
  {
   "cell_type": "markdown",
   "metadata": {},
   "source": [
    "## Preparing the data\n",
    "\n",
    "Luckily, Keras already has the dataset ready to download and use easily. No data manipulation of our own is needed :). We start off by importing some needed things. We also normalize our images to have values in the range of [0,1]."
   ]
  },
  {
   "cell_type": "code",
   "execution_count": 1,
   "metadata": {},
   "outputs": [
    {
     "name": "stderr",
     "output_type": "stream",
     "text": [
      "c:\\users\\alex\\appdata\\local\\programs\\python\\python35\\lib\\site-packages\\h5py\\__init__.py:36: FutureWarning: Conversion of the second argument of issubdtype from `float` to `np.floating` is deprecated. In future, it will be treated as `np.float64 == np.dtype(float).type`.\n",
      "  from ._conv import register_converters as _register_converters\n"
     ]
    }
   ],
   "source": [
    "import tensorflow as tf\n",
    "from tensorflow.contrib.layers import conv2d\n",
    "from tensorflow.contrib.layers import flatten\n",
    "from tensorflow.contrib.layers import softmax\n",
    "import matplotlib.pyplot as plt\n",
    "import numpy as np\n",
    "\n",
    "(x_train, y_train), (x_test, y_test_scalar_labels) = tf.keras.datasets.fashion_mnist.load_data()\n",
    "num_classes = 10\n",
    "\n",
    "# normalize the images\n",
    "x_train = (1/255)*x_train\n",
    "x_test = (1/255)*x_test"
   ]
  },
  {
   "cell_type": "markdown",
   "metadata": {},
   "source": [
    "We also prepare our labels as one-hot vectors instead of scalars as they were originally represented. Simply picking the label'th row from an identity matrix with num_classes rows makes this easy."
   ]
  },
  {
   "cell_type": "code",
   "execution_count": 2,
   "metadata": {},
   "outputs": [],
   "source": [
    "y_train = np.array([np.identity(num_classes)[label] for label in y_train])\n",
    "y_test = np.array([np.identity(num_classes)[label] for label in y_test_scalar_labels])"
   ]
  },
  {
   "cell_type": "markdown",
   "metadata": {},
   "source": [
    "Some of the images from the dataset can be seen below"
   ]
  },
  {
   "cell_type": "code",
   "execution_count": 3,
   "metadata": {},
   "outputs": [
    {
     "data": {
      "image/png": "[encoded data removed]",
      "text/plain": [
       "<Figure size 432x288 with 1 Axes>"
      ]
     },
     "metadata": {},
     "output_type": "display_data"
    }
   ],
   "source": [
    "plt.imshow(x_test[0], cmap='gray')\n",
    "plt.show()"
   ]
  },
  {
   "cell_type": "code",
   "execution_count": 4,
   "metadata": {},
   "outputs": [
    {
     "data": {
      "image/png": "[encoded data removed]",
      "text/plain": [
       "<Figure size 432x288 with 1 Axes>"
      ]
     },
     "metadata": {},
     "output_type": "display_data"
    }
   ],
   "source": [
    "plt.imshow(x_test[1], cmap='gray')\n",
    "plt.show()"
   ]
  },
  {
   "cell_type": "markdown",
   "metadata": {},
   "source": [
    "Some placeholders must be created next! We keep a vector of scalar label values so we can use them to easily compute accuracy later."
   ]
  },
  {
   "cell_type": "code",
   "execution_count": 5,
   "metadata": {},
   "outputs": [],
   "source": [
    "x = tf.placeholder(dtype=tf.float32, shape=(None, 28, 28))\n",
    "y = tf.placeholder(dtype=tf.float32, shape=(None, 10))\n",
    "y_scalars = tf.placeholder(dtype=tf.float32, shape=(None))"
   ]
  },
  {
   "cell_type": "markdown",
   "metadata": {},
   "source": [
    "## The Convolutional Layer\n",
    "\n",
    "Next, we define elements for our one and only convolutional layer in the network. We will have 20 filters, each of size 7x7. "
   ]
  },
  {
   "cell_type": "code",
   "execution_count": 6,
   "metadata": {},
   "outputs": [],
   "source": [
    "conv1_filter_count = 20\n",
    "conv1_filter_size = 7\n",
    "conv1_layer = conv2d(inputs=tf.expand_dims(x, 3), num_outputs=conv1_filter_count,\n",
    "                    kernel_size=[conv1_filter_size, conv1_filter_size], padding='SAME',\n",
    "                    stride=2)"
   ]
  },
  {
   "cell_type": "markdown",
   "metadata": {},
   "source": [
    "The output of this convolutional layer will be a rectangular tensor. We will flatten it so we can feed it to the fully connected layer on the end of our model."
   ]
  },
  {
   "cell_type": "code",
   "execution_count": 7,
   "metadata": {},
   "outputs": [],
   "source": [
    "flattened = flatten(conv1_layer)"
   ]
  },
  {
   "cell_type": "markdown",
   "metadata": {},
   "source": [
    "## The Fully Connected Layer\n",
    "\n",
    "We must then initialize our weight matrix. We will use Xavier initialization, an advanced and optimal form of weight initialization. The definition of the matrix multiplication that transforms the filters into our prediction vectors follows."
   ]
  },
  {
   "cell_type": "code",
   "execution_count": 8,
   "metadata": {},
   "outputs": [],
   "source": [
    "fc1_weights = tf.get_variable(name='fc1_weights', shape=[flattened.shape[1], num_classes], initializer=tf.contrib.layers.xavier_initializer())\n",
    "fc1_layer = tf.matmul(flattened, fc1_weights)"
   ]
  },
  {
   "cell_type": "markdown",
   "metadata": {},
   "source": [
    "## Loss and Optimization\n",
    "\n",
    "In order to train our model, we must apply an optimizer to a differentiable error function. We will compute the cross entropy losses, sum them up, and square them. We will use batch gradient descent with some momentum for our purposes."
   ]
  },
  {
   "cell_type": "code",
   "execution_count": 9,
   "metadata": {},
   "outputs": [],
   "source": [
    "loss = tf.reduce_mean(tf.nn.softmax_cross_entropy_with_logits_v2(labels=y, logits=fc1_layer))\n",
    "optimizer = tf.train.MomentumOptimizer(learning_rate=0.2, momentum=0.9).minimize(loss)"
   ]
  },
  {
   "cell_type": "markdown",
   "metadata": {},
   "source": [
    "Also, we will compute the number of correct predictions that we can use later to get an accuracy percentage, which is alot nicer to interpret than our loss function value."
   ]
  },
  {
   "cell_type": "code",
   "execution_count": 10,
   "metadata": {},
   "outputs": [],
   "source": [
    "accuracy = tf.reduce_sum(tf.cast(tf.equal(tf.argmax(fc1_layer, axis=1), tf.cast(y_scalars, tf.int64)), tf.int64))"
   ]
  },
  {
   "cell_type": "markdown",
   "metadata": {},
   "source": [
    "## Setting the model loose on the training data\n",
    "\n",
    "Now we can train for a while and see how well the model does!"
   ]
  },
  {
   "cell_type": "code",
   "execution_count": 11,
   "metadata": {},
   "outputs": [
    {
     "name": "stdout",
     "output_type": "stream",
     "text": [
      "epoch 0 accuracy: 21.84%\n",
      "epoch 1 accuracy: 31.18%\n",
      "epoch 2 accuracy: 55.91%\n",
      "epoch 3 accuracy: 30.13%\n",
      "epoch 4 accuracy: 47.36%\n",
      "epoch 5 accuracy: 35.62%\n",
      "epoch 6 accuracy: 33.67%\n",
      "epoch 7 accuracy: 37.79%\n",
      "epoch 8 accuracy: 48.47%\n",
      "epoch 9 accuracy: 60.49%\n",
      "epoch 10 accuracy: 55.92%\n",
      "epoch 11 accuracy: 64.87%\n",
      "epoch 12 accuracy: 65.84%\n",
      "epoch 13 accuracy: 68.85%\n",
      "epoch 14 accuracy: 68.29%\n",
      "epoch 15 accuracy: 70.54%\n",
      "epoch 16 accuracy: 69.37%\n",
      "epoch 17 accuracy: 71.48%\n",
      "epoch 18 accuracy: 73.23%\n",
      "epoch 19 accuracy: 72.59%\n",
      "epoch 20 accuracy: 74.99%\n",
      "epoch 21 accuracy: 75.01%\n",
      "epoch 22 accuracy: 75.62%\n",
      "epoch 23 accuracy: 77.46%\n",
      "epoch 24 accuracy: 77.3%\n",
      "epoch 25 accuracy: 78.0%\n",
      "epoch 26 accuracy: 78.61%\n",
      "epoch 27 accuracy: 79.08%\n",
      "epoch 28 accuracy: 79.54%\n",
      "epoch 29 accuracy: 79.83%\n",
      "epoch 30 accuracy: 79.68%\n",
      "epoch 31 accuracy: 80.78%\n",
      "epoch 32 accuracy: 80.58%\n",
      "epoch 33 accuracy: 80.93%\n",
      "epoch 34 accuracy: 81.38%\n",
      "epoch 35 accuracy: 81.68%\n",
      "epoch 36 accuracy: 81.98%\n",
      "epoch 37 accuracy: 82.26%\n",
      "epoch 38 accuracy: 82.1%\n",
      "epoch 39 accuracy: 82.61%\n",
      "epoch 40 accuracy: 82.46%\n",
      "epoch 41 accuracy: 82.77%\n",
      "epoch 42 accuracy: 82.77%\n",
      "epoch 43 accuracy: 83.18%\n",
      "epoch 44 accuracy: 83.35%\n",
      "epoch 45 accuracy: 83.06%\n",
      "epoch 46 accuracy: 83.24%\n",
      "epoch 47 accuracy: 83.34%\n",
      "epoch 48 accuracy: 83.58%\n",
      "epoch 49 accuracy: 83.54%\n",
      "epoch 50 accuracy: 83.84%\n",
      "epoch 51 accuracy: 83.91%\n",
      "epoch 52 accuracy: 83.89%\n",
      "epoch 53 accuracy: 84.02%\n",
      "epoch 54 accuracy: 84.16%\n",
      "epoch 55 accuracy: 84.36%\n",
      "epoch 56 accuracy: 84.28%\n",
      "epoch 57 accuracy: 84.58%\n",
      "epoch 58 accuracy: 84.55%\n",
      "epoch 59 accuracy: 84.5%\n",
      "epoch 60 accuracy: 84.59%\n",
      "epoch 61 accuracy: 84.66%\n",
      "epoch 62 accuracy: 84.72%\n",
      "epoch 63 accuracy: 84.78%\n",
      "epoch 64 accuracy: 84.87%\n",
      "epoch 65 accuracy: 84.92%\n",
      "epoch 66 accuracy: 84.95%\n",
      "epoch 67 accuracy: 84.95%\n",
      "epoch 68 accuracy: 85.0%\n",
      "epoch 69 accuracy: 85.14%\n",
      "epoch 70 accuracy: 85.06%\n",
      "epoch 71 accuracy: 85.14%\n",
      "epoch 72 accuracy: 85.23%\n",
      "epoch 73 accuracy: 85.3%\n",
      "epoch 74 accuracy: 85.35%\n",
      "epoch 75 accuracy: 85.41%\n",
      "epoch 76 accuracy: 85.45%\n",
      "epoch 77 accuracy: 85.44%\n",
      "epoch 78 accuracy: 85.58%\n",
      "epoch 79 accuracy: 85.55%\n",
      "epoch 80 accuracy: 85.58%\n",
      "epoch 81 accuracy: 85.63%\n",
      "epoch 82 accuracy: 85.71%\n",
      "epoch 83 accuracy: 85.84%\n",
      "epoch 84 accuracy: 85.8%\n",
      "epoch 85 accuracy: 85.88%\n",
      "epoch 86 accuracy: 85.91%\n",
      "epoch 87 accuracy: 86.06%\n",
      "epoch 88 accuracy: 86.13%\n",
      "epoch 89 accuracy: 86.11%\n",
      "epoch 90 accuracy: 86.19%\n",
      "epoch 91 accuracy: 86.21%\n",
      "epoch 92 accuracy: 86.3%\n",
      "epoch 93 accuracy: 86.31%\n",
      "epoch 94 accuracy: 86.35%\n",
      "epoch 95 accuracy: 86.4%\n",
      "epoch 96 accuracy: 86.39%\n",
      "epoch 97 accuracy: 86.41%\n",
      "epoch 98 accuracy: 86.42%\n",
      "epoch 99 accuracy: 86.48%\n",
      "epoch 100 accuracy: 86.45%\n",
      "epoch 101 accuracy: 86.45%\n",
      "epoch 102 accuracy: 86.44%\n",
      "epoch 103 accuracy: 86.43%\n",
      "epoch 104 accuracy: 86.5%\n",
      "epoch 105 accuracy: 86.55%\n",
      "epoch 106 accuracy: 86.59%\n",
      "epoch 107 accuracy: 86.55%\n",
      "epoch 108 accuracy: 86.58%\n",
      "epoch 109 accuracy: 86.55%\n",
      "epoch 110 accuracy: 86.55%\n",
      "epoch 111 accuracy: 86.61%\n",
      "epoch 112 accuracy: 86.59%\n",
      "epoch 113 accuracy: 86.58%\n",
      "epoch 114 accuracy: 86.6%\n",
      "epoch 115 accuracy: 86.64%\n",
      "epoch 116 accuracy: 86.69%\n",
      "epoch 117 accuracy: 86.67%\n",
      "epoch 118 accuracy: 86.71%\n",
      "epoch 119 accuracy: 86.72%\n",
      "epoch 120 accuracy: 86.75%\n",
      "epoch 121 accuracy: 86.74%\n",
      "epoch 122 accuracy: 86.74%\n",
      "epoch 123 accuracy: 86.75%\n",
      "epoch 124 accuracy: 86.75%\n",
      "epoch 125 accuracy: 86.78%\n",
      "epoch 126 accuracy: 86.78%\n",
      "epoch 127 accuracy: 86.74%\n",
      "epoch 128 accuracy: 86.77%\n",
      "epoch 129 accuracy: 86.74%\n",
      "epoch 130 accuracy: 86.77%\n",
      "epoch 131 accuracy: 86.76%\n",
      "epoch 132 accuracy: 86.78%\n",
      "epoch 133 accuracy: 86.81%\n",
      "epoch 134 accuracy: 86.84%\n",
      "epoch 135 accuracy: 86.84%\n",
      "epoch 136 accuracy: 86.8%\n",
      "epoch 137 accuracy: 86.82%\n",
      "epoch 138 accuracy: 86.81%\n",
      "epoch 139 accuracy: 86.84%\n",
      "epoch 140 accuracy: 86.84%\n",
      "epoch 141 accuracy: 86.84%\n",
      "epoch 142 accuracy: 86.87%\n",
      "epoch 143 accuracy: 86.89%\n",
      "epoch 144 accuracy: 86.85%\n",
      "epoch 145 accuracy: 86.86%\n",
      "epoch 146 accuracy: 86.87%\n",
      "epoch 147 accuracy: 86.9%\n",
      "epoch 148 accuracy: 86.9%\n",
      "epoch 149 accuracy: 86.9%\n",
      "epoch 150 accuracy: 86.9%\n",
      "epoch 151 accuracy: 86.93%\n",
      "epoch 152 accuracy: 86.96%\n",
      "epoch 153 accuracy: 86.97%\n",
      "epoch 154 accuracy: 86.99%\n",
      "epoch 155 accuracy: 86.96%\n",
      "epoch 156 accuracy: 86.98%\n",
      "epoch 157 accuracy: 86.97%\n",
      "epoch 158 accuracy: 86.98%\n",
      "epoch 159 accuracy: 86.99%\n",
      "epoch 160 accuracy: 87.0%\n",
      "epoch 161 accuracy: 87.04%\n",
      "epoch 162 accuracy: 86.97%\n",
      "epoch 163 accuracy: 87.05%\n",
      "epoch 164 accuracy: 87.0%\n",
      "epoch 165 accuracy: 87.11%\n",
      "epoch 166 accuracy: 87.02%\n",
      "epoch 167 accuracy: 87.27%\n",
      "epoch 168 accuracy: 87.1%\n",
      "epoch 169 accuracy: 87.4%\n",
      "epoch 170 accuracy: 86.99%\n",
      "epoch 171 accuracy: 87.21%\n",
      "epoch 172 accuracy: 86.57%\n",
      "epoch 173 accuracy: 86.52%\n",
      "epoch 174 accuracy: 85.36%\n",
      "epoch 175 accuracy: 85.74%\n",
      "epoch 176 accuracy: 85.72%\n",
      "epoch 177 accuracy: 87.25%\n",
      "epoch 178 accuracy: 87.12%\n",
      "epoch 179 accuracy: 86.37%\n",
      "epoch 180 accuracy: 87.07%\n",
      "epoch 181 accuracy: 87.35%\n",
      "epoch 182 accuracy: 86.92%\n",
      "epoch 183 accuracy: 86.84%\n",
      "epoch 184 accuracy: 87.05%\n",
      "epoch 185 accuracy: 87.53%\n",
      "epoch 186 accuracy: 87.27%\n",
      "epoch 187 accuracy: 86.88%\n",
      "epoch 188 accuracy: 87.32%\n",
      "epoch 189 accuracy: 87.35%\n",
      "epoch 190 accuracy: 87.27%\n",
      "epoch 191 accuracy: 87.26%\n",
      "epoch 192 accuracy: 87.34%\n",
      "epoch 193 accuracy: 87.38%\n",
      "epoch 194 accuracy: 87.43%\n",
      "epoch 195 accuracy: 87.42%\n",
      "epoch 196 accuracy: 87.54%\n",
      "epoch 197 accuracy: 87.44%\n",
      "epoch 198 accuracy: 87.49%\n",
      "epoch 199 accuracy: 87.58%\n",
      "epoch 200 accuracy: 87.53%\n",
      "epoch 201 accuracy: 87.55%\n",
      "epoch 202 accuracy: 87.5%\n",
      "epoch 203 accuracy: 87.52%\n"
     ]
    }
   ],
   "source": [
    "with tf.Session() as sess:\n",
    "    sess.run(tf.global_variables_initializer())\n",
    "    for i in range(204):\n",
    "      sess.run(optimizer, feed_dict={x:x_train, y:y_train, y_scalars:[]})\n",
    "      print(\"epoch \" + str(i) + \" accuracy: \" + str(100*sess.run(accuracy, feed_dict={x:x_test, y:y_test, y_scalars:y_test_scalar_labels}) / len(y_test)) + \"%\")"
   ]
  },
  {
   "cell_type": "markdown",
   "metadata": {},
   "source": [
    "After a total of 204 epochs, we obtain an accuracy of ~88%. Not bad, but perhaps we can get it up in the 90's by adding some other elements to the model later."
   ]
  },
  {
   "cell_type": "code",
   "execution_count": null,
   "metadata": {},
   "outputs": [],
   "source": []
  }
 ],
 "metadata": {
  "kernelspec": {
   "display_name": "Python 3",
   "language": "python",
   "name": "python3"
  },
  "language_info": {
   "codemirror_mode": {
    "name": "ipython",
    "version": 3
   },
   "file_extension": ".py",
   "mimetype": "text/x-python",
   "name": "python",
   "nbconvert_exporter": "python",
   "pygments_lexer": "ipython3",
   "version": "3.5.0"
  }
 },
 "nbformat": 4,
 "nbformat_minor": 2
}
